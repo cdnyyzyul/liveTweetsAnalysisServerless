{
  "nbformat": 4,
  "nbformat_minor": 0,
  "metadata": {
    "colab": {
      "name": "sentiment_analysis.ipynb",
      "provenance": [],
      "toc_visible": true
    },
    "kernelspec": {
      "name": "python3",
      "display_name": "Python 3"
    },
    "language_info": {
      "name": "python"
    }
  },
  "cells": [
    {
      "cell_type": "markdown",
      "metadata": {
        "id": "FLkjBmSJFOKO"
      },
      "source": [
        "# Train and save the model"
      ]
    },
    {
      "cell_type": "code",
      "metadata": {
        "id": "z8-33TugRRGR"
      },
      "source": [
        "import pandas as pd\n",
        "from tensorflow.keras.preprocessing.text import Tokenizer\n",
        "from tensorflow.keras.preprocessing.sequence import pad_sequences\n",
        "from tensorflow.keras.models import Sequential\n",
        "from tensorflow.keras.layers import Dense, Embedding, LSTM, SpatialDropout1D\n",
        "from sklearn.model_selection import train_test_split\n",
        "import re\n",
        "import os"
      ],
      "execution_count": null,
      "outputs": []
    },
    {
      "cell_type": "code",
      "metadata": {
        "id": "WsWuO9UtSSxi"
      },
      "source": [
        "os.chdir(\"/content/drive/MyDrive/LOG8415_tps/personal_project\")"
      ],
      "execution_count": null,
      "outputs": []
    },
    {
      "cell_type": "code",
      "metadata": {
        "id": "FQFlXTtnSgVj"
      },
      "source": [
        "data = pd.read_csv('Sentiment.csv')\n",
        "\n",
        "# Keeping only the neccessary columns\n",
        "data = data[['text','sentiment']]"
      ],
      "execution_count": null,
      "outputs": []
    },
    {
      "cell_type": "code",
      "metadata": {
        "colab": {
          "base_uri": "https://localhost:8080/",
          "height": 205
        },
        "id": "pSioV2z5S0u7",
        "outputId": "68f6bf7b-ba7d-4700-a046-f6b4cddd51fb"
      },
      "source": [
        "data.head()"
      ],
      "execution_count": null,
      "outputs": [
        {
          "output_type": "execute_result",
          "data": {
            "text/html": [
              "<div>\n",
              "<style scoped>\n",
              "    .dataframe tbody tr th:only-of-type {\n",
              "        vertical-align: middle;\n",
              "    }\n",
              "\n",
              "    .dataframe tbody tr th {\n",
              "        vertical-align: top;\n",
              "    }\n",
              "\n",
              "    .dataframe thead th {\n",
              "        text-align: right;\n",
              "    }\n",
              "</style>\n",
              "<table border=\"1\" class=\"dataframe\">\n",
              "  <thead>\n",
              "    <tr style=\"text-align: right;\">\n",
              "      <th></th>\n",
              "      <th>text</th>\n",
              "      <th>sentiment</th>\n",
              "    </tr>\n",
              "  </thead>\n",
              "  <tbody>\n",
              "    <tr>\n",
              "      <th>0</th>\n",
              "      <td>RT @NancyLeeGrahn: How did everyone feel about...</td>\n",
              "      <td>Neutral</td>\n",
              "    </tr>\n",
              "    <tr>\n",
              "      <th>1</th>\n",
              "      <td>RT @ScottWalker: Didn't catch the full #GOPdeb...</td>\n",
              "      <td>Positive</td>\n",
              "    </tr>\n",
              "    <tr>\n",
              "      <th>2</th>\n",
              "      <td>RT @TJMShow: No mention of Tamir Rice and the ...</td>\n",
              "      <td>Neutral</td>\n",
              "    </tr>\n",
              "    <tr>\n",
              "      <th>3</th>\n",
              "      <td>RT @RobGeorge: That Carly Fiorina is trending ...</td>\n",
              "      <td>Positive</td>\n",
              "    </tr>\n",
              "    <tr>\n",
              "      <th>4</th>\n",
              "      <td>RT @DanScavino: #GOPDebate w/ @realDonaldTrump...</td>\n",
              "      <td>Positive</td>\n",
              "    </tr>\n",
              "  </tbody>\n",
              "</table>\n",
              "</div>"
            ],
            "text/plain": [
              "                                                text sentiment\n",
              "0  RT @NancyLeeGrahn: How did everyone feel about...   Neutral\n",
              "1  RT @ScottWalker: Didn't catch the full #GOPdeb...  Positive\n",
              "2  RT @TJMShow: No mention of Tamir Rice and the ...   Neutral\n",
              "3  RT @RobGeorge: That Carly Fiorina is trending ...  Positive\n",
              "4  RT @DanScavino: #GOPDebate w/ @realDonaldTrump...  Positive"
            ]
          },
          "metadata": {},
          "execution_count": 6
        }
      ]
    },
    {
      "cell_type": "code",
      "metadata": {
        "id": "TOMtyRJBTCj2"
      },
      "source": [
        "def preProcess_data(text):\n",
        "   text = text.lower()\n",
        "   new_text = re.sub('[^a-zA-z0-9\\s]','',text)\n",
        "   new_text = re.sub('rt', '', new_text)\n",
        "   return new_text\n",
        "\n",
        "data['text'] = data['text'].apply(preProcess_data)\n"
      ],
      "execution_count": null,
      "outputs": []
    },
    {
      "cell_type": "code",
      "metadata": {
        "colab": {
          "base_uri": "https://localhost:8080/",
          "height": 205
        },
        "id": "3hs6XlJuKRqQ",
        "outputId": "e3946e0f-c406-475e-d93f-e6f50c25d70c"
      },
      "source": [
        "data.head()"
      ],
      "execution_count": null,
      "outputs": [
        {
          "output_type": "execute_result",
          "data": {
            "text/html": [
              "<div>\n",
              "<style scoped>\n",
              "    .dataframe tbody tr th:only-of-type {\n",
              "        vertical-align: middle;\n",
              "    }\n",
              "\n",
              "    .dataframe tbody tr th {\n",
              "        vertical-align: top;\n",
              "    }\n",
              "\n",
              "    .dataframe thead th {\n",
              "        text-align: right;\n",
              "    }\n",
              "</style>\n",
              "<table border=\"1\" class=\"dataframe\">\n",
              "  <thead>\n",
              "    <tr style=\"text-align: right;\">\n",
              "      <th></th>\n",
              "      <th>text</th>\n",
              "      <th>sentiment</th>\n",
              "    </tr>\n",
              "  </thead>\n",
              "  <tbody>\n",
              "    <tr>\n",
              "      <th>0</th>\n",
              "      <td>nancyleegrahn how did everyone feel about the...</td>\n",
              "      <td>Neutral</td>\n",
              "    </tr>\n",
              "    <tr>\n",
              "      <th>1</th>\n",
              "      <td>scottwalker didnt catch the full gopdebate la...</td>\n",
              "      <td>Positive</td>\n",
              "    </tr>\n",
              "    <tr>\n",
              "      <th>2</th>\n",
              "      <td>tjmshow no mention of tamir rice and the gopd...</td>\n",
              "      <td>Neutral</td>\n",
              "    </tr>\n",
              "    <tr>\n",
              "      <th>3</th>\n",
              "      <td>robgeorge that carly fiorina is trending  hou...</td>\n",
              "      <td>Positive</td>\n",
              "    </tr>\n",
              "    <tr>\n",
              "      <th>4</th>\n",
              "      <td>danscavino gopdebate w realdonaldtrump delive...</td>\n",
              "      <td>Positive</td>\n",
              "    </tr>\n",
              "  </tbody>\n",
              "</table>\n",
              "</div>"
            ],
            "text/plain": [
              "                                                text sentiment\n",
              "0   nancyleegrahn how did everyone feel about the...   Neutral\n",
              "1   scottwalker didnt catch the full gopdebate la...  Positive\n",
              "2   tjmshow no mention of tamir rice and the gopd...   Neutral\n",
              "3   robgeorge that carly fiorina is trending  hou...  Positive\n",
              "4   danscavino gopdebate w realdonaldtrump delive...  Positive"
            ]
          },
          "metadata": {},
          "execution_count": 8
        }
      ]
    },
    {
      "cell_type": "code",
      "metadata": {
        "id": "IJLzzqU4TIMg"
      },
      "source": [
        "max_fatures = 2000\n",
        "\n",
        "tokenizer = Tokenizer(num_words=max_fatures, split=' ')  #english\n",
        "tokenizer.fit_on_texts(data['text'].values)\n",
        "X = tokenizer.texts_to_sequences(data['text'].values)\n",
        "X = pad_sequences(X, 28) \n",
        "\n",
        "Y = pd.get_dummies(data['sentiment']).values\n"
      ],
      "execution_count": null,
      "outputs": []
    },
    {
      "cell_type": "code",
      "metadata": {
        "colab": {
          "base_uri": "https://localhost:8080/"
        },
        "id": "XK-L7yZyKhc4",
        "outputId": "2a158acc-15b5-41d6-de48-b92f61ec5be5"
      },
      "source": [
        "Y"
      ],
      "execution_count": null,
      "outputs": [
        {
          "output_type": "execute_result",
          "data": {
            "text/plain": [
              "array([[0, 1, 0],\n",
              "       [0, 0, 1],\n",
              "       [0, 1, 0],\n",
              "       ...,\n",
              "       [0, 0, 1],\n",
              "       [1, 0, 0],\n",
              "       [0, 0, 1]], dtype=uint8)"
            ]
          },
          "metadata": {},
          "execution_count": 10
        }
      ]
    },
    {
      "cell_type": "code",
      "metadata": {
        "colab": {
          "base_uri": "https://localhost:8080/"
        },
        "id": "_29rwlXzNMwA",
        "outputId": "e9ccbb38-76d1-4ead-cdf3-8ecdbfd537ff"
      },
      "source": [
        "data['sentiment'].unique()"
      ],
      "execution_count": null,
      "outputs": [
        {
          "output_type": "execute_result",
          "data": {
            "text/plain": [
              "array(['Neutral', 'Positive', 'Negative'], dtype=object)"
            ]
          },
          "metadata": {},
          "execution_count": 18
        }
      ]
    },
    {
      "cell_type": "code",
      "metadata": {
        "colab": {
          "base_uri": "https://localhost:8080/",
          "height": 422
        },
        "id": "nW9BBbVLQSaB",
        "outputId": "20ca8f28-7de0-4105-82ed-738689b0fbeb"
      },
      "source": [
        "pd.get_dummies(data['sentiment'])"
      ],
      "execution_count": null,
      "outputs": [
        {
          "output_type": "execute_result",
          "data": {
            "text/html": [
              "<div>\n",
              "<style scoped>\n",
              "    .dataframe tbody tr th:only-of-type {\n",
              "        vertical-align: middle;\n",
              "    }\n",
              "\n",
              "    .dataframe tbody tr th {\n",
              "        vertical-align: top;\n",
              "    }\n",
              "\n",
              "    .dataframe thead th {\n",
              "        text-align: right;\n",
              "    }\n",
              "</style>\n",
              "<table border=\"1\" class=\"dataframe\">\n",
              "  <thead>\n",
              "    <tr style=\"text-align: right;\">\n",
              "      <th></th>\n",
              "      <th>Negative</th>\n",
              "      <th>Neutral</th>\n",
              "      <th>Positive</th>\n",
              "    </tr>\n",
              "  </thead>\n",
              "  <tbody>\n",
              "    <tr>\n",
              "      <th>0</th>\n",
              "      <td>0</td>\n",
              "      <td>1</td>\n",
              "      <td>0</td>\n",
              "    </tr>\n",
              "    <tr>\n",
              "      <th>1</th>\n",
              "      <td>0</td>\n",
              "      <td>0</td>\n",
              "      <td>1</td>\n",
              "    </tr>\n",
              "    <tr>\n",
              "      <th>2</th>\n",
              "      <td>0</td>\n",
              "      <td>1</td>\n",
              "      <td>0</td>\n",
              "    </tr>\n",
              "    <tr>\n",
              "      <th>3</th>\n",
              "      <td>0</td>\n",
              "      <td>0</td>\n",
              "      <td>1</td>\n",
              "    </tr>\n",
              "    <tr>\n",
              "      <th>4</th>\n",
              "      <td>0</td>\n",
              "      <td>0</td>\n",
              "      <td>1</td>\n",
              "    </tr>\n",
              "    <tr>\n",
              "      <th>...</th>\n",
              "      <td>...</td>\n",
              "      <td>...</td>\n",
              "      <td>...</td>\n",
              "    </tr>\n",
              "    <tr>\n",
              "      <th>13866</th>\n",
              "      <td>1</td>\n",
              "      <td>0</td>\n",
              "      <td>0</td>\n",
              "    </tr>\n",
              "    <tr>\n",
              "      <th>13867</th>\n",
              "      <td>0</td>\n",
              "      <td>0</td>\n",
              "      <td>1</td>\n",
              "    </tr>\n",
              "    <tr>\n",
              "      <th>13868</th>\n",
              "      <td>0</td>\n",
              "      <td>0</td>\n",
              "      <td>1</td>\n",
              "    </tr>\n",
              "    <tr>\n",
              "      <th>13869</th>\n",
              "      <td>1</td>\n",
              "      <td>0</td>\n",
              "      <td>0</td>\n",
              "    </tr>\n",
              "    <tr>\n",
              "      <th>13870</th>\n",
              "      <td>0</td>\n",
              "      <td>0</td>\n",
              "      <td>1</td>\n",
              "    </tr>\n",
              "  </tbody>\n",
              "</table>\n",
              "<p>13871 rows × 3 columns</p>\n",
              "</div>"
            ],
            "text/plain": [
              "       Negative  Neutral  Positive\n",
              "0             0        1         0\n",
              "1             0        0         1\n",
              "2             0        1         0\n",
              "3             0        0         1\n",
              "4             0        0         1\n",
              "...         ...      ...       ...\n",
              "13866         1        0         0\n",
              "13867         0        0         1\n",
              "13868         0        0         1\n",
              "13869         1        0         0\n",
              "13870         0        0         1\n",
              "\n",
              "[13871 rows x 3 columns]"
            ]
          },
          "metadata": {},
          "execution_count": 39
        }
      ]
    },
    {
      "cell_type": "code",
      "metadata": {
        "id": "zaelS5-TTS50"
      },
      "source": [
        "X_train, X_test, Y_train, Y_test = train_test_split(X,Y, test_size = 0.20)"
      ],
      "execution_count": null,
      "outputs": []
    },
    {
      "cell_type": "code",
      "metadata": {
        "colab": {
          "base_uri": "https://localhost:8080/"
        },
        "id": "dZc918YySdiV",
        "outputId": "08e34543-8548-46b3-99d9-26acfac9ea63"
      },
      "source": [
        "Y_test.shape"
      ],
      "execution_count": null,
      "outputs": [
        {
          "output_type": "execute_result",
          "data": {
            "text/plain": [
              "(2775, 3)"
            ]
          },
          "metadata": {},
          "execution_count": 40
        }
      ]
    },
    {
      "cell_type": "code",
      "metadata": {
        "id": "lqSUy49KTXY5"
      },
      "source": [
        "embed_dim = 128\n",
        "lstm_out = 196\n",
        "\n",
        "model = Sequential()\n",
        "model.add(Embedding(max_fatures, embed_dim,input_length = X.shape[1]))\n",
        "model.add(SpatialDropout1D(0.4))\n",
        "model.add(LSTM(lstm_out, dropout=0.3, recurrent_dropout=0.2, return_sequences=True))\n",
        "model.add(LSTM(128,recurrent_dropout=0.2))\n",
        "model.add(Dense(3,activation='softmax'))\n",
        "\n",
        "model.compile(loss = 'categorical_crossentropy', optimizer='adam',metrics = ['accuracy'])"
      ],
      "execution_count": null,
      "outputs": []
    },
    {
      "cell_type": "code",
      "metadata": {
        "colab": {
          "base_uri": "https://localhost:8080/"
        },
        "id": "9I4HiVukTdaH",
        "outputId": "3b246958-f890-4525-810d-a716925832c5"
      },
      "source": [
        "batch_size = 512\n",
        "\n",
        "model.fit(X_train, Y_train, epochs = 10, batch_size=batch_size, validation_data=(X_test, Y_test))"
      ],
      "execution_count": null,
      "outputs": [
        {
          "output_type": "stream",
          "name": "stdout",
          "text": [
            "Epoch 1/10\n",
            "22/22 [==============================] - 33s 1s/step - loss: 0.9630 - accuracy: 0.6029 - val_loss: 0.8911 - val_accuracy: 0.6137\n",
            "Epoch 2/10\n",
            "22/22 [==============================] - 27s 1s/step - loss: 0.8416 - accuracy: 0.6215 - val_loss: 0.7961 - val_accuracy: 0.6422\n",
            "Epoch 3/10\n",
            "22/22 [==============================] - 27s 1s/step - loss: 0.7508 - accuracy: 0.6721 - val_loss: 0.7620 - val_accuracy: 0.6649\n",
            "Epoch 4/10\n",
            "22/22 [==============================] - 27s 1s/step - loss: 0.6845 - accuracy: 0.7012 - val_loss: 0.7483 - val_accuracy: 0.6746\n",
            "Epoch 5/10\n",
            "22/22 [==============================] - 27s 1s/step - loss: 0.6397 - accuracy: 0.7286 - val_loss: 0.7455 - val_accuracy: 0.6670\n",
            "Epoch 6/10\n",
            "22/22 [==============================] - 27s 1s/step - loss: 0.6121 - accuracy: 0.7395 - val_loss: 0.7569 - val_accuracy: 0.6746\n",
            "Epoch 7/10\n",
            "22/22 [==============================] - 27s 1s/step - loss: 0.5960 - accuracy: 0.7486 - val_loss: 0.7686 - val_accuracy: 0.6685\n",
            "Epoch 8/10\n",
            "22/22 [==============================] - 27s 1s/step - loss: 0.5792 - accuracy: 0.7554 - val_loss: 0.7731 - val_accuracy: 0.6663\n",
            "Epoch 9/10\n",
            "22/22 [==============================] - 27s 1s/step - loss: 0.5652 - accuracy: 0.7606 - val_loss: 0.7873 - val_accuracy: 0.6616\n",
            "Epoch 10/10\n",
            "22/22 [==============================] - 27s 1s/step - loss: 0.5557 - accuracy: 0.7648 - val_loss: 0.7978 - val_accuracy: 0.6656\n"
          ]
        },
        {
          "output_type": "execute_result",
          "data": {
            "text/plain": [
              "<keras.callbacks.History at 0x7fe96fb56490>"
            ]
          },
          "metadata": {},
          "execution_count": 13
        }
      ]
    },
    {
      "cell_type": "code",
      "metadata": {
        "id": "BdjapiSvTi6o"
      },
      "source": [
        "#model.save('sentiment.h5')\n"
      ],
      "execution_count": null,
      "outputs": []
    },
    {
      "cell_type": "code",
      "metadata": {
        "colab": {
          "base_uri": "https://localhost:8080/"
        },
        "id": "w4wA8kNnU0yQ",
        "outputId": "764def7d-b1b9-489a-d9aa-5c7db2352433"
      },
      "source": [
        "!ls -lh\n"
      ],
      "execution_count": null,
      "outputs": [
        {
          "output_type": "stream",
          "name": "stdout",
          "text": [
            "total 13M\n",
            "-rw------- 1 root root 1.7K Dec  1 03:42 app.py\n",
            "-rw------- 1 root root 1.8K Dec  1 02:10 lambda_function.py\n",
            "-rw------- 1 root root 765K Dec  1 02:40 my-deployment-package.zip\n",
            "-rw------- 1 root root 1.6K Nov 29 23:58 predict.py\n",
            "-rw------- 1 root root   42 Nov 29 23:31 requirements.txt\n",
            "drwx------ 2 root root 4.0K Dec  3 15:13 results\n",
            "-rw------- 1 root root 3.8M Nov 29 06:01 Sentiment.csv\n",
            "-rw------- 1 root root 7.9M Nov 29 06:12 sentiment.h5\n"
          ]
        }
      ]
    },
    {
      "cell_type": "markdown",
      "metadata": {
        "id": "dJUIgDWDWbhG"
      },
      "source": [
        "# Load model for prediction"
      ]
    },
    {
      "cell_type": "code",
      "metadata": {
        "id": "PvyVoX31YE0R"
      },
      "source": [
        "import tensorflow as tf\n",
        "import numpy as np"
      ],
      "execution_count": null,
      "outputs": []
    },
    {
      "cell_type": "code",
      "metadata": {
        "colab": {
          "base_uri": "https://localhost:8080/"
        },
        "id": "sYkmVgrQ_Ofz",
        "outputId": "f6ff1e35-212c-4d8f-f310-901be0ef57e4"
      },
      "source": [
        "print(tf. __version__)"
      ],
      "execution_count": null,
      "outputs": [
        {
          "output_type": "stream",
          "name": "stdout",
          "text": [
            "2.7.0\n"
          ]
        }
      ]
    },
    {
      "cell_type": "code",
      "metadata": {
        "id": "ztlkyL38AZb5"
      },
      "source": [
        ""
      ],
      "execution_count": null,
      "outputs": []
    },
    {
      "cell_type": "code",
      "metadata": {
        "id": "Nsh-kwbsV3au"
      },
      "source": [
        "# data = pd.read_csv('Sentiment.csv')\n",
        "# tokenizer = Tokenizer(num_words=2000, split=' ')\n",
        "# tokenizer.fit_on_texts(data['text'].values)\n",
        "\n",
        "def preProcess_data(text):\n",
        "    text = text.lower()\n",
        "    new_text = re.sub('[^a-zA-z0-9\\s]','',text)\n",
        "    new_text = re.sub('rt', '', new_text)\n",
        "    return new_text\n",
        "\n",
        "def my_pipeline(text):\n",
        "    text_new = preProcess_data(text)\n",
        "    X = tokenizer.texts_to_sequences(pd.Series(text_new).values)\n",
        "    X = pad_sequences(X, maxlen=28)\n",
        "    return X\n"
      ],
      "execution_count": null,
      "outputs": []
    },
    {
      "cell_type": "code",
      "metadata": {
        "id": "_SSjVF-_XArL"
      },
      "source": [
        "def predict(text:str=\"it is a rainy cold day in seattle\"):\n",
        "    print(text)\n",
        "    clean_text = my_pipeline(text) \n",
        "    loaded_model = tf.keras.models.load_model('sentiment.h5') #load the saved model \n",
        "    predictions = loaded_model.predict(clean_text) #predict the text\n",
        "    sentiment = int(np.argmax(predictions)) \n",
        "    probability = max(predictions.tolist()[0]) \n",
        "    if sentiment==0:\n",
        "         t_sentiment = 'Negative' \n",
        "    elif sentiment==1:\n",
        "         t_sentiment = 'Neutral'\n",
        "    elif sentiment==2:\n",
        "         t_sentiment='Positive'\n",
        "    return { \n",
        "         \"message\": text,\n",
        "         \"sentiment\": t_sentiment,\n",
        "         \"score\": probability\n",
        "    }\n"
      ],
      "execution_count": null,
      "outputs": []
    },
    {
      "cell_type": "code",
      "metadata": {
        "colab": {
          "base_uri": "https://localhost:8080/"
        },
        "id": "qMX3aMuRXdal",
        "outputId": "e3ffd17d-1490-418c-c022-321520d20790"
      },
      "source": [
        "predict(\"RT @warriorwoman91: I liked her and was happy when I heard she was going to be the moderator. Not anymore. #GOPDebate @megynkelly  https://â€¦\")"
      ],
      "execution_count": null,
      "outputs": [
        {
          "output_type": "stream",
          "name": "stdout",
          "text": [
            "RT @warriorwoman91: I liked her and was happy when I heard she was going to be the moderator. Not anymore. #GOPDebate @megynkelly  https://â€¦\n"
          ]
        },
        {
          "output_type": "execute_result",
          "data": {
            "text/plain": [
              "{'message': 'RT @warriorwoman91: I liked her and was happy when I heard she was going to be the moderator. Not anymore. #GOPDebate @megynkelly  https://â€¦',\n",
              " 'score': 0.9829199910163879,\n",
              " 'sentiment': 'Negative'}"
            ]
          },
          "metadata": {},
          "execution_count": 79
        }
      ]
    },
    {
      "cell_type": "markdown",
      "metadata": {
        "id": "y7MO8322L1nn"
      },
      "source": [
        "# Manual test\n"
      ]
    },
    {
      "cell_type": "code",
      "metadata": {
        "colab": {
          "base_uri": "https://localhost:8080/"
        },
        "id": "L678v3HZLzQm",
        "outputId": "0d1790cb-2db0-4631-d1d6-20388c206cae"
      },
      "source": [
        "#text = \"RT @hutchinsjohne: D.C. Attorney General @AGKarlRacine Announces New Role as Affordable Housing Advocate https://t.co/9FLJ3BfCnn via @allys…\"\n",
        "text = \"Please vote for TXT on 🍎 Music too!\"\n",
        "clean_text = my_pipeline(text)\n",
        "predictions = model.predict(clean_text)"
      ],
      "execution_count": null,
      "outputs": [
        {
          "output_type": "stream",
          "name": "stdout",
          "text": [
            "new_text:  please vote for txt on  music too\n"
          ]
        }
      ]
    },
    {
      "cell_type": "code",
      "metadata": {
        "colab": {
          "base_uri": "https://localhost:8080/"
        },
        "id": "Sy6VqK2bLzlF",
        "outputId": "e3f52c0d-f588-4692-8bed-9cc46dcd2023"
      },
      "source": [
        "predictions"
      ],
      "execution_count": null,
      "outputs": [
        {
          "output_type": "execute_result",
          "data": {
            "text/plain": [
              "array([[0.85676926, 0.04944487, 0.09378583]], dtype=float32)"
            ]
          },
          "metadata": {},
          "execution_count": 63
        }
      ]
    },
    {
      "cell_type": "code",
      "metadata": {
        "colab": {
          "base_uri": "https://localhost:8080/"
        },
        "id": "fnt-zbVaOaKP",
        "outputId": "032b4c69-9507-43f8-807e-002971f97955"
      },
      "source": [
        "sentiment = int(np.argmax(predictions))\n",
        "sentiment"
      ],
      "execution_count": null,
      "outputs": [
        {
          "output_type": "execute_result",
          "data": {
            "text/plain": [
              "0"
            ]
          },
          "metadata": {},
          "execution_count": 64
        }
      ]
    },
    {
      "cell_type": "code",
      "metadata": {
        "colab": {
          "base_uri": "https://localhost:8080/"
        },
        "id": "Iv--AfJNO1ZD",
        "outputId": "1a37c75b-a02f-43f9-8aa0-903fb77821d6"
      },
      "source": [
        "max(predictions.tolist()[0])"
      ],
      "execution_count": null,
      "outputs": [
        {
          "output_type": "execute_result",
          "data": {
            "text/plain": [
              "0.9947063326835632"
            ]
          },
          "metadata": {},
          "execution_count": 58
        }
      ]
    }
  ]
}